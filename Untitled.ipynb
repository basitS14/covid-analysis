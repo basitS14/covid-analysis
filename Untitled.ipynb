{
 "cells": [
  {
   "cell_type": "code",
   "execution_count": 2,
   "id": "e5245118-99d3-4cb2-9897-192fa0d82933",
   "metadata": {
    "tags": []
   },
   "outputs": [],
   "source": [
    "# Python3 program to convert decimal\n",
    "# number to ternary number\n",
    "\n",
    "# Function to convert a decimal\n",
    "# number to a ternary number\n",
    "def convertToTernary(N):\n",
    "\t\n",
    "\t# Base case\n",
    "\tif (N == 0):\n",
    "\t\treturn;\n",
    "\n",
    "\t# Finding the remainder\n",
    "\t# when N is divided by 3\n",
    "\tx = N % 3;\n",
    "\tN //= 3;\n",
    "\tif (x < 0):\n",
    "\t\tN += 1;\n",
    "\n",
    "\t# Recursive function to\n",
    "\t# call the function for\n",
    "\t# the integer division\n",
    "\t# of the value N/3\n",
    "\tconvertToTernary(N);\n",
    "\n",
    "\t# Handling the negative cases\n",
    "\tif (x < 0):\n",
    "\t\tprint(x + (3 * -1), end = \"\");\n",
    "\telse:\n",
    "\t\tprint(x, end = \"\");\n",
    "\n",
    "\n",
    "# Function to convert the \n",
    "# decimal to ternary\n",
    "def convert(Decimal):\n",
    "\t\n",
    "\tprint(\"Ternary number of \", Decimal,\n",
    "\t\t\" is: \", end = \"\");\n",
    "\n",
    "\t# If the number is greater\n",
    "\t# than 0, compute the\n",
    "\t# ternary representation\n",
    "\t# of the number\n",
    "\tif (Decimal != 0):\n",
    "\t\tconvertToTernary(Decimal);\n",
    "\telse:\n",
    "\t\tprint(\"0\", end = \"\");\n",
    "\n"
   ]
  },
  {
   "cell_type": "code",
   "execution_count": 9,
   "id": "e241c414-2c6c-4f90-add1-e1c01e7b2de9",
   "metadata": {
    "tags": []
   },
   "outputs": [
    {
     "name": "stdout",
     "output_type": "stream",
     "text": [
      "Ternary number of  35  is: 1022"
     ]
    }
   ],
   "source": [
    "\tDecimal = 35\n",
    "\n",
    "\tconvert(Decimal)"
   ]
  }
 ],
 "metadata": {
  "kernelspec": {
   "display_name": "Python 3 (ipykernel)",
   "language": "python",
   "name": "python3"
  },
  "language_info": {
   "codemirror_mode": {
    "name": "ipython",
    "version": 3
   },
   "file_extension": ".py",
   "mimetype": "text/x-python",
   "name": "python",
   "nbconvert_exporter": "python",
   "pygments_lexer": "ipython3",
   "version": "3.11.3"
  },
  "widgets": {
   "application/vnd.jupyter.widget-state+json": {
    "state": {},
    "version_major": 2,
    "version_minor": 0
   }
  }
 },
 "nbformat": 4,
 "nbformat_minor": 5
}
